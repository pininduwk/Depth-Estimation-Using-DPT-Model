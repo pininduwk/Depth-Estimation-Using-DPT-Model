{
  "nbformat": 4,
  "nbformat_minor": 0,
  "metadata": {
    "colab": {
      "provenance": []
    },
    "kernelspec": {
      "name": "python3",
      "display_name": "Python 3"
    },
    "language_info": {
      "name": "python"
    },
    "accelerator": "GPU",
    "gpuClass": "standard"
  },
  "cells": [
    {
      "cell_type": "code",
      "source": [
        "!pip install transformers"
      ],
      "metadata": {
        "id": "BQ3IAfBd6w4J"
      },
      "execution_count": null,
      "outputs": []
    },
    {
      "cell_type": "code",
      "source": [
        "import cv2\n",
        "from transformers import DPTImageProcessor, DPTForDepthEstimation\n",
        "import torch\n",
        "import numpy as np\n",
        "from PIL import Image\n",
        "\n",
        "# Set up the input video file\n",
        "input_file = \"/content/drive/MyDrive/Pexels Videos 2711276.mp4\"\n",
        "cap = cv2.VideoCapture(input_file)\n",
        "\n",
        "# Set up the output video file\n",
        "fourcc = cv2.VideoWriter_fourcc(*\"mp4v\")\n",
        "output_file = \"output.mp4\"\n",
        "fps = int(cap.get(cv2.CAP_PROP_FPS))\n",
        "frame_size = (int(cap.get(cv2.CAP_PROP_FRAME_WIDTH)), int(cap.get(cv2.CAP_PROP_FRAME_HEIGHT)))\n",
        "out = cv2.VideoWriter(output_file, fourcc, fps, frame_size)\n",
        "\n",
        "# Set up the DPT model on GPU\n",
        "device = torch.device(\"cuda\" if torch.cuda.is_available() else \"cpu\")\n",
        "processor = DPTImageProcessor.from_pretrained(\"Intel/dpt-large\")\n",
        "model = DPTForDepthEstimation.from_pretrained(\"Intel/dpt-large\")\n",
        "model.to(device)\n",
        "\n",
        "# Process each frame of the video\n",
        "while cap.isOpened():\n",
        "    ret, frame = cap.read()\n",
        "    if not ret:\n",
        "        break\n",
        "\n",
        "    # Convert the OpenCV BGR image to PIL RGB image\n",
        "    image = Image.fromarray(cv2.cvtColor(frame, cv2.COLOR_BGR2RGB))\n",
        "\n",
        "    # Prepare the image for the model\n",
        "    inputs = processor(images=image, return_tensors=\"pt\")\n",
        "\n",
        "    # Run the model\n",
        "    with torch.no_grad():\n",
        "        inputs = {k: v.to(device) for k, v in inputs.items()}\n",
        "        outputs = model(**inputs)\n",
        "        predicted_depth = outputs.predicted_depth\n",
        "\n",
        "    # Interpolate the depth map to original size\n",
        "    prediction = torch.nn.functional.interpolate(\n",
        "        predicted_depth.unsqueeze(1),\n",
        "        size=image.size[::-1],\n",
        "        mode=\"bicubic\",\n",
        "        align_corners=False,\n",
        "    )\n",
        "\n",
        "    # Convert the depth map to a numpy array and normalize\n",
        "    output = prediction.squeeze().cpu().numpy()\n",
        "    output = (output * 255 / np.max(output)).astype(\"uint8\")\n",
        "\n",
        "    # Write the output frame to the output video file\n",
        "    out.write(cv2.cvtColor(output, cv2.COLOR_GRAY2BGR))\n",
        "\n",
        "cap.release()\n",
        "out.release()\n",
        "\n"
      ],
      "metadata": {
        "id": "4CWcWknn4Tnp"
      },
      "execution_count": null,
      "outputs": []
    }
  ]
}